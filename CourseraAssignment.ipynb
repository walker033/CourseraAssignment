{
 "cells": [
  {
   "cell_type": "markdown",
   "id": "1c678208-1ac7-447c-83fe-323e6ab332d7",
   "metadata": {},
   "source": [
    "# My Jupyter Notebook on IBM Watson Studio"
   ]
  },
  {
   "cell_type": "markdown",
   "id": "5997f7b6-ac87-49c5-9acb-77ca97ae0612",
   "metadata": {},
   "source": [
    "**Gajanan Shirodkar**\n",
    "\n",
    "Data Analyst"
   ]
  },
  {
   "cell_type": "markdown",
   "id": "36f5bfc2-9ce7-4c63-817b-84db8c9f5680",
   "metadata": {},
   "source": [
    "_I'm Interested In Data Science because I really like the process of analyzing the data and I'm also curious to find patterns and trends from data._"
   ]
  },
  {
   "cell_type": "markdown",
   "id": "06d157d5-b705-47e7-bf35-67a382731056",
   "metadata": {},
   "source": [
    "### The code written below will be about a calculation of values assigned to the variables"
   ]
  },
  {
   "cell_type": "code",
   "execution_count": 1,
   "id": "0b7977a9-c997-4dec-9126-e55b31dd66b8",
   "metadata": {},
   "outputs": [
    {
     "name": "stdout",
     "output_type": "stream",
     "text": [
      "1760\n"
     ]
    }
   ],
   "source": [
    "a = 44\n",
    "b = 40\n",
    "\n",
    "print(a*b)"
   ]
  },
  {
   "cell_type": "markdown",
   "id": "1454abf3-9363-4344-b83a-530fafe18821",
   "metadata": {},
   "source": [
    "  - One\n",
    "  - Two\n",
    "  - Three\n",
    "  - Four\n",
    "  \n",
    "  1. One\n",
    "  2. Two\n",
    "  3. Three\n",
    "  4. Four\n",
    "  \n",
    "  | Name | Age | Gender |\n",
    "  | ------ | ------ |------ |\n",
    "  | Leo | 18 | Male |\n",
    "  | Ximena | 24 | Female |\n",
    "  | James | 31 | Male |\n",
    "  | Cassie | 22 | Female |\n",
    "  \n",
    "  \n",
    "  \n",
    "  [I'm YouTube](https://youtube.com)\n",
    "  \n",
    "  \n"
   ]
  },
  {
   "cell_type": "code",
   "execution_count": null,
   "id": "fe530b98-eba4-46ee-9c89-ad96d18a08ac",
   "metadata": {},
   "outputs": [],
   "source": []
  }
 ],
 "metadata": {
  "kernelspec": {
   "display_name": "Python",
   "language": "python",
   "name": "conda-env-python-py"
  },
  "language_info": {
   "codemirror_mode": {
    "name": "ipython",
    "version": 3
   },
   "file_extension": ".py",
   "mimetype": "text/x-python",
   "name": "python",
   "nbconvert_exporter": "python",
   "pygments_lexer": "ipython3",
   "version": "3.7.12"
  }
 },
 "nbformat": 4,
 "nbformat_minor": 5
}
